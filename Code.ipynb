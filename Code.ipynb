{
 "cells": [
  {
   "cell_type": "code",
   "execution_count": 1,
   "id": "22b58bd8",
   "metadata": {},
   "outputs": [
    {
     "name": "stderr",
     "output_type": "stream",
     "text": [
      "C:\\Users\\tneelapu\\AppData\\Roaming\\Python\\Python39\\site-packages\\pydub\\utils.py:170: RuntimeWarning: Couldn't find ffmpeg or avconv - defaulting to ffmpeg, but may not work\n",
      "  warn(\"Couldn't find ffmpeg or avconv - defaulting to ffmpeg, but may not work\", RuntimeWarning)\n"
     ]
    }
   ],
   "source": [
    "import h5py\n",
    "import numpy as np\n",
    "import pandas as pd\n",
    "import matplotlib.pyplot as plt\n",
    "from matplotlib import image\n",
    "import os\n",
    "from sklearn.model_selection import train_test_split\n",
    "from sklearn.linear_model import LinearRegression, LassoCV, LogisticRegression\n",
    "from sklearn.preprocessing import LabelBinarizer, StandardScaler, OneHotEncoder, LabelEncoder\n",
    "from sklearn.metrics import mean_absolute_error, accuracy_score, mean_squared_error, r2_score\n",
    "from tensorflow.keras.preprocessing.image import load_img, img_to_array\n",
    "from tensorflow.keras.preprocessing.sequence import pad_sequences\n",
    "from keras.models import Sequential\n",
    "from keras.layers import Dense, Dropout, Conv2D, MaxPooling2D, Flatten, Embedding, LSTM, SimpleRNN\n",
    "from keras.applications import imagenet_utils, ResNet50\n",
    "from keras.applications.imagenet_utils import preprocess_input\n",
    "from keras.datasets import mnist, cifar10, imdb\n",
    "from scipy.sparse import csr_matrix\n",
    "from scipy import interpolate\n",
    "from tensorflow.keras.utils import to_categorical\n",
    "from scipy.io import wavfile\n",
    "from scipy.signal import spectrogram\n",
    "from keras.models import load_model\n",
    "from pydub import AudioSegment\n",
    "import librosa"
   ]
  },
  {
   "cell_type": "code",
   "execution_count": 26,
   "id": "e9db210a",
   "metadata": {},
   "outputs": [
    {
     "data": {
      "text/plain": [
       "['amecro',\n",
       " 'barswa',\n",
       " 'bkcchi',\n",
       " 'blujay',\n",
       " 'daejun',\n",
       " 'houfin',\n",
       " 'mallar3',\n",
       " 'norfli',\n",
       " 'rewbla',\n",
       " 'stejay',\n",
       " 'wesmea',\n",
       " 'whcspa']"
      ]
     },
     "execution_count": 26,
     "metadata": {},
     "output_type": "execute_result"
    }
   ],
   "source": [
    "f = h5py.File('spectrograms.h5', 'r')\n",
    "list(f.keys())"
   ]
  },
  {
   "cell_type": "code",
   "execution_count": 27,
   "id": "a6afa5c1",
   "metadata": {},
   "outputs": [
    {
     "name": "stdout",
     "output_type": "stream",
     "text": [
      "Shape of amecro: (256, 343, 52)\n",
      "Shape of barswa: (256, 343, 55)\n",
      "Shape of bkcchi: (256, 343, 57)\n",
      "Shape of blujay: (256, 343, 50)\n",
      "Shape of daejun: (256, 343, 58)\n",
      "Shape of houfin: (256, 343, 44)\n",
      "Shape of mallar3: (256, 343, 36)\n",
      "Shape of norfli: (256, 343, 59)\n",
      "Shape of rewbla: (256, 343, 41)\n",
      "Shape of stejay: (256, 343, 40)\n",
      "Shape of wesmea: (256, 343, 36)\n",
      "Shape of whcspa: (256, 343, 51)\n"
     ]
    }
   ],
   "source": [
    "for key in f.keys():\n",
    "    dataset = f[key]\n",
    "    print(f\"Shape of {key}: {dataset.shape}\")"
   ]
  },
  {
   "cell_type": "markdown",
   "id": "1866c332",
   "metadata": {},
   "source": [
    "### Binary Model (selected 3 pairs and choose the one that was giving a better accuracy)"
   ]
  },
  {
   "cell_type": "markdown",
   "id": "432d7605",
   "metadata": {},
   "source": [
    "#### mallar3,blujay"
   ]
  },
  {
   "cell_type": "code",
   "execution_count": 2,
   "id": "19de2972",
   "metadata": {},
   "outputs": [
    {
     "name": "stderr",
     "output_type": "stream",
     "text": [
      "C:\\Users\\neela\\anaconda3\\lib\\site-packages\\keras\\src\\layers\\reshaping\\flatten.py:37: UserWarning: Do not pass an `input_shape`/`input_dim` argument to a layer. When using Sequential models, prefer using an `Input(shape)` object as the first layer in the model instead.\n",
      "  super().__init__(**kwargs)\n"
     ]
    },
    {
     "name": "stdout",
     "output_type": "stream",
     "text": [
      "Test Accuracy: 94.44%\n"
     ]
    }
   ],
   "source": [
    "f = h5py.File('spectrograms.h5', 'r')\n",
    "\n",
    "mallar3_data = f['mallar3'][:].transpose((2, 0, 1))\n",
    "blujay_data = f['blujay'][:].transpose((2, 0, 1))\n",
    "\n",
    "labels_mallar3 = np.zeros(mallar3_data.shape[0])\n",
    "labels_blujay = np.ones(blujay_data.shape[0])\n",
    "\n",
    "data = np.concatenate((mallar3_data, blujay_data), axis=0)\n",
    "labels = np.concatenate((labels_mallar3, labels_blujay), axis=0)\n",
    "\n",
    "X_train, X_test, y_train, y_test = train_test_split(data, labels, test_size=0.2, random_state=42)\n",
    "\n",
    "model = Sequential([\n",
    "    Flatten(input_shape=(256, 343)),\n",
    "    Dense(128, activation='relu'),\n",
    "    Dropout(0.4),\n",
    "    Dense(64, activation='relu'),\n",
    "    Dropout(0.3),\n",
    "    Dense(1, activation='sigmoid')\n",
    "])\n",
    "\n",
    "model.compile(optimizer='rmsprop'\n",
    "              , loss='binary_crossentropy'\n",
    "              , metrics=['accuracy'])\n",
    "\n",
    "history = model.fit(X_train, y_train\n",
    "                      , epochs=20, batch_size=128\n",
    "                      , validation_split=0.2, verbose=0)\n",
    "\n",
    "score = model.evaluate(X_test, y_test, verbose=0)\n",
    "print(\"Test Accuracy: {:.2f}%\".format(score[1] * 100))"
   ]
  },
  {
   "cell_type": "code",
   "execution_count": 4,
   "id": "d53b577a",
   "metadata": {},
   "outputs": [
    {
     "name": "stdout",
     "output_type": "stream",
     "text": [
      "Test Accuracy: 94.44%\n"
     ]
    }
   ],
   "source": [
    "history = model.fit(X_train, y_train\n",
    "                      , epochs=20, batch_size=32\n",
    "                      , validation_split=0.2, verbose=0)\n",
    "\n",
    "score = model.evaluate(X_test, y_test, verbose=0)\n",
    "print(\"Test Accuracy: {:.2f}%\".format(score[1] * 100))"
   ]
  },
  {
   "cell_type": "code",
   "execution_count": 5,
   "id": "273fd280",
   "metadata": {},
   "outputs": [
    {
     "name": "stdout",
     "output_type": "stream",
     "text": [
      "Test Accuracy: 94.44%\n"
     ]
    }
   ],
   "source": [
    "history = model.fit(X_train, y_train\n",
    "                      , epochs=10, batch_size=128\n",
    "                      , validation_split=0.2, verbose=0)\n",
    "\n",
    "score = model.evaluate(X_test, y_test, verbose=0)\n",
    "print(\"Test Accuracy: {:.2f}%\".format(score[1] * 100))"
   ]
  },
  {
   "cell_type": "code",
   "execution_count": 7,
   "id": "5e21222f",
   "metadata": {},
   "outputs": [
    {
     "name": "stdout",
     "output_type": "stream",
     "text": [
      "Test Accuracy: 94.44%\n"
     ]
    }
   ],
   "source": [
    "history = model.fit(X_train, y_train\n",
    "                      , epochs=60, batch_size=128\n",
    "                      , validation_split=0.2, verbose=0)\n",
    "\n",
    "score = model.evaluate(X_test, y_test, verbose=0)\n",
    "print(\"Test Accuracy: {:.2f}%\".format(score[1] * 100))"
   ]
  },
  {
   "cell_type": "markdown",
   "id": "36e262c8",
   "metadata": {},
   "source": [
    "All the test accuracies are the same even after changing the batch size and epochs."
   ]
  },
  {
   "cell_type": "markdown",
   "id": "1e94870a",
   "metadata": {},
   "source": [
    "#### mallar3,wesmea"
   ]
  },
  {
   "cell_type": "code",
   "execution_count": 9,
   "id": "3ba2777d",
   "metadata": {},
   "outputs": [
    {
     "name": "stdout",
     "output_type": "stream",
     "text": [
      "Test Accuracy: 93.33%\n"
     ]
    }
   ],
   "source": [
    "f = h5py.File('spectrograms.h5', 'r')\n",
    "\n",
    "mallar3_data = f['mallar3'][:].transpose((2, 0, 1))\n",
    "wesmea_data = f['wesmea'][:].transpose((2, 0, 1))\n",
    "\n",
    "labels_mallar3 = np.zeros(mallar3_data.shape[0])\n",
    "labels_wesmea = np.ones(wesmea_data.shape[0])\n",
    "\n",
    "data = np.concatenate((mallar3_data, wesmea_data), axis=0)\n",
    "labels = np.concatenate((labels_mallar3, labels_wesmea), axis=0)\n",
    "\n",
    "X_train, X_test, y_train, y_test = train_test_split(data, labels, test_size=0.2, random_state=42)\n",
    "\n",
    "model = Sequential([\n",
    "    Flatten(input_shape=(256, 343)),\n",
    "    Dense(128, activation='relu'),\n",
    "    Dropout(0.4),\n",
    "    Dense(64, activation='relu'),\n",
    "    Dropout(0.3),\n",
    "    Dense(1, activation='sigmoid')\n",
    "])\n",
    "\n",
    "model.compile(optimizer='rmsprop'\n",
    "              , loss='binary_crossentropy'\n",
    "              , metrics=['accuracy'])\n",
    "\n",
    "history = model.fit(X_train, y_train\n",
    "                      , epochs=10, batch_size=128\n",
    "                      , validation_split=0.2, verbose=0)\n",
    "\n",
    "score = model.evaluate(X_test, y_test, verbose=0)\n",
    "print(\"Test Accuracy: {:.2f}%\".format(score[1] * 100))"
   ]
  },
  {
   "cell_type": "code",
   "execution_count": 10,
   "id": "401d51f7",
   "metadata": {},
   "outputs": [
    {
     "name": "stdout",
     "output_type": "stream",
     "text": [
      "Test Accuracy: 93.33%\n"
     ]
    }
   ],
   "source": [
    "history = model.fit(X_train, y_train\n",
    "                      , epochs=10, batch_size=8\n",
    "                      , validation_split=0.2, verbose=0)\n",
    "\n",
    "score = model.evaluate(X_test, y_test, verbose=0)\n",
    "print(\"Test Accuracy: {:.2f}%\".format(score[1] * 100))"
   ]
  },
  {
   "cell_type": "code",
   "execution_count": 12,
   "id": "58d00a23",
   "metadata": {},
   "outputs": [
    {
     "name": "stdout",
     "output_type": "stream",
     "text": [
      "Test Accuracy: 93.33%\n"
     ]
    }
   ],
   "source": [
    "history = model.fit(X_train, y_train\n",
    "                      , epochs=30, batch_size=250\n",
    "                      , validation_split=0.2, verbose=0)\n",
    "\n",
    "score = model.evaluate(X_test, y_test, verbose=0)\n",
    "print(\"Test Accuracy: {:.2f}%\".format(score[1] * 100))"
   ]
  },
  {
   "cell_type": "markdown",
   "id": "40befed8",
   "metadata": {},
   "source": [
    "All the test accuracies are the same even after changing the batch size and epochs."
   ]
  },
  {
   "cell_type": "markdown",
   "id": "ea1d3718",
   "metadata": {},
   "source": [
    "#### bkcchi,blujay"
   ]
  },
  {
   "cell_type": "code",
   "execution_count": 148,
   "id": "db917bf8",
   "metadata": {},
   "outputs": [
    {
     "name": "stdout",
     "output_type": "stream",
     "text": [
      "Test Accuracy: 95.45%\n"
     ]
    }
   ],
   "source": [
    "f = h5py.File('spectrograms.h5', 'r')\n",
    "\n",
    "bkcchi_data = f['bkcchi'][:].transpose((2, 0, 1))\n",
    "blujay_data = f['blujay'][:].transpose((2, 0, 1))\n",
    "\n",
    "labels_bkcchi = np.zeros(bkcchi_data.shape[0])\n",
    "labels_blujay = np.ones(blujay_data.shape[0])\n",
    "\n",
    "data = np.concatenate((bkcchi_data, blujay_data), axis=0)\n",
    "labels = np.concatenate((labels_bkcchi, labels_blujay), axis=0)\n",
    "\n",
    "X_train, X_test, y_train, y_test = train_test_split(data, labels, test_size=0.2, random_state=42)\n",
    "\n",
    "model = Sequential([\n",
    "    Flatten(input_shape=(256, 343)),\n",
    "    Dense(128, activation='relu'),\n",
    "    Dropout(0.4),\n",
    "    Dense(64, activation='relu'),\n",
    "    Dropout(0.3),\n",
    "    Dense(1, activation='sigmoid')\n",
    "])\n",
    "\n",
    "model.compile(optimizer='rmsprop', loss='binary_crossentropy', metrics=['accuracy'])\n",
    "\n",
    "history = model.fit(X_train, y_train, epochs=20, batch_size=64\n",
    "                      , validation_split=0.2, verbose=0)\n",
    "\n",
    "score = model.evaluate(X_test, y_test, verbose=0)\n",
    "print(\"Test Accuracy: {:.2f}%\".format(score[1]*100))"
   ]
  },
  {
   "cell_type": "code",
   "execution_count": 147,
   "id": "191e7994",
   "metadata": {},
   "outputs": [
    {
     "name": "stdout",
     "output_type": "stream",
     "text": [
      "Test Accuracy: 77.27%\n"
     ]
    }
   ],
   "source": [
    "history = model.fit(X_train, y_train, epochs=20, batch_size=256\n",
    "                      , validation_split=0.2, verbose=0)\n",
    "\n",
    "score = model.evaluate(X_test, y_test, verbose=0)\n",
    "print(\"Test Accuracy: {:.2f}%\".format(score[1]*100))"
   ]
  },
  {
   "cell_type": "code",
   "execution_count": 149,
   "id": "0a299348",
   "metadata": {},
   "outputs": [
    {
     "name": "stdout",
     "output_type": "stream",
     "text": [
      "Test Accuracy: 95.45%\n"
     ]
    }
   ],
   "source": [
    "history = model.fit(X_train, y_train, epochs=20, batch_size=512\n",
    "                      , validation_split=0.2, verbose=0)\n",
    "\n",
    "score = model.evaluate(X_test, y_test, verbose=0)\n",
    "print(\"Test Accuracy: {:.2f}%\".format(score[1]*100))"
   ]
  },
  {
   "cell_type": "code",
   "execution_count": 17,
   "id": "f8e68b27",
   "metadata": {},
   "outputs": [
    {
     "name": "stdout",
     "output_type": "stream",
     "text": [
      "Test Accuracy: 95.45%\n"
     ]
    }
   ],
   "source": [
    "history = model.fit(X_train, y_train, epochs=20, batch_size=128\n",
    "                      , validation_split=0.2, verbose=0)\n",
    "\n",
    "score = model.evaluate(X_test, y_test, verbose=0)\n",
    "print(\"Test Accuracy: {:.2f}%\".format(score[1]*100))"
   ]
  },
  {
   "cell_type": "code",
   "execution_count": 139,
   "id": "474e5861",
   "metadata": {},
   "outputs": [
    {
     "name": "stdout",
     "output_type": "stream",
     "text": [
      "Test Accuracy: 90.91%\n"
     ]
    }
   ],
   "source": [
    "history = model.fit(X_train, y_train, epochs=10, batch_size=128\n",
    "                      , validation_split=0.2, verbose=0)\n",
    "\n",
    "score = model.evaluate(X_test, y_test, verbose=0)\n",
    "print(\"Test Accuracy: {:.2f}%\".format(score[1]*100))"
   ]
  },
  {
   "cell_type": "code",
   "execution_count": 140,
   "id": "09c2aea2",
   "metadata": {},
   "outputs": [
    {
     "name": "stdout",
     "output_type": "stream",
     "text": [
      "Test Accuracy: 95.45%\n"
     ]
    }
   ],
   "source": [
    "history = model.fit(X_train, y_train, epochs=50, batch_size=128\n",
    "                      , validation_split=0.2, verbose=0)\n",
    "\n",
    "score = model.evaluate(X_test, y_test, verbose=0)\n",
    "print(\"Test Accuracy: {:.2f}%\".format(score[1]*100))"
   ]
  },
  {
   "cell_type": "code",
   "execution_count": 141,
   "id": "77de608d",
   "metadata": {},
   "outputs": [
    {
     "name": "stdout",
     "output_type": "stream",
     "text": [
      "Test Accuracy: 95.45%\n"
     ]
    }
   ],
   "source": [
    "history = model.fit(X_train, y_train, epochs=60, batch_size=128\n",
    "                      , validation_split=0.2, verbose=0)\n",
    "\n",
    "score = model.evaluate(X_test, y_test, verbose=0)\n",
    "print(\"Test Accuracy: {:.2f}%\".format(score[1]*100))"
   ]
  },
  {
   "cell_type": "code",
   "execution_count": 46,
   "id": "eab4a95d",
   "metadata": {},
   "outputs": [
    {
     "name": "stdout",
     "output_type": "stream",
     "text": [
      "Test Accuracy: 95.45%\n",
      "Wall time: 5.97 s\n"
     ]
    }
   ],
   "source": [
    "%%time\n",
    "\n",
    "f = h5py.File('spectrograms.h5', 'r')\n",
    "\n",
    "bkcchi_data = f['bkcchi'][:].transpose((2, 0, 1))\n",
    "blujay_data = f['blujay'][:].transpose((2, 0, 1))\n",
    "\n",
    "labels_bkcchi = np.zeros(bkcchi_data.shape[0])\n",
    "labels_blujay = np.ones(blujay_data.shape[0])\n",
    "\n",
    "data = np.concatenate((bkcchi_data, blujay_data), axis=0)\n",
    "labels = np.concatenate((labels_bkcchi, labels_blujay), axis=0)\n",
    "\n",
    "X_train, X_test, y_train, y_test = train_test_split(data, labels, test_size=0.2, random_state=42)\n",
    "\n",
    "model = Sequential([\n",
    "    Flatten(input_shape=(256, 343)),\n",
    "    Dense(128, activation='relu'),\n",
    "    Dropout(0.4),\n",
    "    Dense(64, activation='relu'),\n",
    "    Dropout(0.3),\n",
    "    Dense(1, activation='sigmoid')\n",
    "])\n",
    "\n",
    "model.compile(optimizer='rmsprop', loss='binary_crossentropy', metrics=['accuracy'])\n",
    "\n",
    "history = model.fit(X_train, y_train, epochs=60, batch_size=128\n",
    "                      , validation_split=0.2, verbose=0)\n",
    "\n",
    "score = model.evaluate(X_test, y_test, verbose=0)\n",
    "print(\"Test Accuracy: {:.2f}%\".format(score[1]*100))"
   ]
  },
  {
   "cell_type": "code",
   "execution_count": null,
   "id": "03142544",
   "metadata": {},
   "outputs": [],
   "source": [
    "model.save('spectrograms_model.h5')"
   ]
  },
  {
   "cell_type": "code",
   "execution_count": 16,
   "id": "3dc01d02",
   "metadata": {
    "scrolled": false
   },
   "outputs": [
    {
     "data": {
      "image/png": "[encoded data removed]",
      "text/plain": [
       "<Figure size 640x480 with 1 Axes>"
      ]
     },
     "metadata": {},
     "output_type": "display_data"
    },
    {
     "data": {
      "image/png": "[encoded data removed]",
      "text/plain": [
       "<Figure size 640x480 with 1 Axes>"
      ]
     },
     "metadata": {},
     "output_type": "display_data"
    }
   ],
   "source": [
    "plt.plot(history.history['loss'])\n",
    "plt.plot(history.history['val_loss'])\n",
    "plt.ylabel('Loss')\n",
    "plt.xlabel('Epoch')\n",
    "plt.legend(['loss', 'val_loss'], loc='upper right')\n",
    "plt.show();\n",
    "\n",
    "plt.plot(history.history['accuracy'])\n",
    "plt.plot(history.history['val_accuracy'])\n",
    "plt.ylabel('Accuracy')\n",
    "plt.xlabel('Epoch')\n",
    "plt.legend(['accuracy', 'val_accuracy'], loc='lower right')\n",
    "plt.show();"
   ]
  },
  {
   "cell_type": "markdown",
   "id": "d4c8c20e",
   "metadata": {},
   "source": [
    "While having epochs=60, batch_size=128 the model achieved the maximum (95.45%) accuracy."
   ]
  },
  {
   "cell_type": "markdown",
   "id": "cd6a40d8",
   "metadata": {},
   "source": [
    "### Multi-class Model"
   ]
  },
  {
   "cell_type": "code",
   "execution_count": 6,
   "id": "ee6659b5",
   "metadata": {},
   "outputs": [
    {
     "name": "stdout",
     "output_type": "stream",
     "text": [
      "Test Accuracy: 65.52%\n"
     ]
    }
   ],
   "source": [
    "f = h5py.File('spectrograms.h5', 'r')\n",
    "\n",
    "data_list = []\n",
    "labels_list = []\n",
    "\n",
    "species_list = list(f.keys())\n",
    "\n",
    "for species_key in f.keys():\n",
    "    species_data = f[species_key][:].transpose((2, 0, 1))\n",
    "    data_list.append(species_data)\n",
    "    species_label = np.full((species_data.shape[0],), fill_value=species_list.index(species_key))\n",
    "    labels_list.append(species_label)\n",
    "\n",
    "X = np.concatenate(data_list, axis=0)\n",
    "y = np.concatenate(labels_list, axis=0)\n",
    "\n",
    "y_one_hot = to_categorical(y, num_classes=len(species_list))\n",
    "\n",
    "X_train, X_test, y_train, y_test = train_test_split(X, y_one_hot, test_size=0.2, random_state=42)\n",
    "\n",
    "model = Sequential([\n",
    "    Flatten(input_shape=(256, 343)),\n",
    "    Dense(256, activation='relu'),\n",
    "    Dropout(0.5),\n",
    "    Dense(128, activation='relu'),\n",
    "    Dropout(0.5),\n",
    "    Dense(len(species_list), activation='softmax')\n",
    "])\n",
    "\n",
    "model.compile(optimizer='rmsprop', loss='categorical_crossentropy', metrics=['accuracy'])\n",
    "\n",
    "history = model.fit(X_train, y_train, epochs=50, batch_size=256, validation_split=0.2, verbose=0)\n",
    "\n",
    "score = model.evaluate(X_test, y_test, verbose=0)\n",
    "print(\"Test Accuracy: {:.2f}%\".format(score[1]*100))"
   ]
  },
  {
   "cell_type": "code",
   "execution_count": 28,
   "id": "2937b2cb",
   "metadata": {},
   "outputs": [
    {
     "name": "stdout",
     "output_type": "stream",
     "text": [
      "Test Accuracy: 63.79%\n"
     ]
    }
   ],
   "source": [
    "model = Sequential([\n",
    "    Flatten(input_shape=(256, 343)),\n",
    "    Dense(256, activation='relu'),\n",
    "    Dropout(0.5),\n",
    "    Dense(128, activation='relu'),\n",
    "    Dropout(0.5),\n",
    "    Dense(len(species_list), activation='softmax')\n",
    "])\n",
    "\n",
    "model.compile(optimizer='rmsprop', loss='categorical_crossentropy', metrics=['accuracy'])\n",
    "\n",
    "history = model.fit(X_train, y_train, epochs=50, batch_size=128, validation_split=0.2, verbose=0)\n",
    "\n",
    "score = model.evaluate(X_test, y_test, verbose=0)\n",
    "print(\"Test Accuracy: {:.2f}%\".format(score[1]*100))"
   ]
  },
  {
   "cell_type": "code",
   "execution_count": 31,
   "id": "a375eb7f",
   "metadata": {},
   "outputs": [
    {
     "name": "stdout",
     "output_type": "stream",
     "text": [
      "Test Accuracy: 56.90%\n"
     ]
    }
   ],
   "source": [
    "model = Sequential([\n",
    "    Flatten(input_shape=(256, 343)),\n",
    "    Dense(256, activation='relu'),\n",
    "    Dropout(0.5),\n",
    "    Dense(128, activation='relu'),\n",
    "    Dropout(0.5),\n",
    "    Dense(len(species_list), activation='softmax')\n",
    "])\n",
    "\n",
    "model.compile(optimizer='rmsprop', loss='categorical_crossentropy', metrics=['accuracy'])\n",
    "\n",
    "history = model.fit(X_train, y_train, epochs=20, batch_size=256, validation_split=0.2, verbose=0)\n",
    "\n",
    "score = model.evaluate(X_test, y_test, verbose=0)\n",
    "print(\"Test Accuracy: {:.2f}%\".format(score[1]*100))"
   ]
  },
  {
   "cell_type": "code",
   "execution_count": 32,
   "id": "dba4c1ed",
   "metadata": {},
   "outputs": [
    {
     "name": "stdout",
     "output_type": "stream",
     "text": [
      "Test Accuracy: 64.66%\n"
     ]
    }
   ],
   "source": [
    "model = Sequential([\n",
    "    Flatten(input_shape=(256, 343)),\n",
    "    Dense(256, activation='relu'),\n",
    "    Dropout(0.5),\n",
    "    Dense(128, activation='relu'),\n",
    "    Dropout(0.5),\n",
    "    Dense(len(species_list), activation='softmax')\n",
    "])\n",
    "\n",
    "model.compile(optimizer='rmsprop', loss='categorical_crossentropy', metrics=['accuracy'])\n",
    "\n",
    "history = model.fit(X_train, y_train, epochs=40, batch_size=256, validation_split=0.2, verbose=0)\n",
    "\n",
    "score = model.evaluate(X_test, y_test, verbose=0)\n",
    "print(\"Test Accuracy: {:.2f}%\".format(score[1]*100))"
   ]
  },
  {
   "cell_type": "code",
   "execution_count": 33,
   "id": "1698f039",
   "metadata": {},
   "outputs": [
    {
     "name": "stdout",
     "output_type": "stream",
     "text": [
      "Test Accuracy: 67.24%\n"
     ]
    }
   ],
   "source": [
    "model = Sequential([\n",
    "    Flatten(input_shape=(256, 343)),\n",
    "    Dense(256, activation='relu'),\n",
    "    Dropout(0.5),\n",
    "    Dense(128, activation='relu'),\n",
    "    Dropout(0.5),\n",
    "    Dense(len(species_list), activation='softmax')\n",
    "])\n",
    "\n",
    "model.compile(optimizer='rmsprop', loss='categorical_crossentropy', metrics=['accuracy'])\n",
    "\n",
    "history = model.fit(X_train, y_train, epochs=60, batch_size=256, validation_split=0.2, verbose=0)\n",
    "\n",
    "score = model.evaluate(X_test, y_test, verbose=0)\n",
    "print(\"Test Accuracy: {:.2f}%\".format(score[1]*100))"
   ]
  },
  {
   "cell_type": "code",
   "execution_count": 47,
   "id": "6c834ecc",
   "metadata": {},
   "outputs": [
    {
     "name": "stdout",
     "output_type": "stream",
     "text": [
      "Test Accuracy: 64.66%\n",
      "Wall time: 22.7 s\n"
     ]
    }
   ],
   "source": [
    "%%time\n",
    "\n",
    "f = h5py.File('spectrograms.h5', 'r')\n",
    "\n",
    "data_list = []\n",
    "labels_list = []\n",
    "\n",
    "species_list = list(f.keys())\n",
    "\n",
    "for species_key in f.keys():\n",
    "    species_data = f[species_key][:].transpose((2, 0, 1))\n",
    "    data_list.append(species_data)\n",
    "    species_label = np.full((species_data.shape[0],), fill_value=species_list.index(species_key))\n",
    "    labels_list.append(species_label)\n",
    "\n",
    "X = np.concatenate(data_list, axis=0)\n",
    "y = np.concatenate(labels_list, axis=0)\n",
    "\n",
    "y_one_hot = to_categorical(y, num_classes=len(species_list))\n",
    "\n",
    "X_train, X_test, y_train, y_test = train_test_split(X, y_one_hot, test_size=0.2, random_state=42)\n",
    "\n",
    "model = Sequential([\n",
    "    Flatten(input_shape=(256, 343)),\n",
    "    Dense(256, activation='relu'),\n",
    "    Dropout(0.5),\n",
    "    Dense(128, activation='relu'),\n",
    "    Dropout(0.5),\n",
    "    Dense(len(species_list), activation='softmax')\n",
    "])\n",
    "\n",
    "model.compile(optimizer='rmsprop', loss='categorical_crossentropy', metrics=['accuracy'])\n",
    "\n",
    "history = model.fit(X_train, y_train, epochs=60, batch_size=256, validation_split=0.2, verbose=0)\n",
    "\n",
    "score = model.evaluate(X_test, y_test, verbose=0)\n",
    "print(\"Test Accuracy: {:.2f}%\".format(score[1]*100))"
   ]
  },
  {
   "cell_type": "code",
   "execution_count": 37,
   "id": "2b7f993c",
   "metadata": {},
   "outputs": [
    {
     "data": {
      "image/png": "[encoded data removed]",
      "text/plain": [
       "<Figure size 640x480 with 1 Axes>"
      ]
     },
     "metadata": {},
     "output_type": "display_data"
    },
    {
     "data": {
      "image/png": "[encoded data removed]",
      "text/plain": [
       "<Figure size 640x480 with 1 Axes>"
      ]
     },
     "metadata": {},
     "output_type": "display_data"
    }
   ],
   "source": [
    "plt.plot(history.history['loss'])\n",
    "plt.plot(history.history['val_loss'])\n",
    "plt.ylabel('Loss')\n",
    "plt.xlabel('Epoch')\n",
    "plt.legend(['loss', 'val_loss'], loc='upper right')\n",
    "plt.show();\n",
    "\n",
    "plt.plot(history.history['accuracy'])\n",
    "plt.plot(history.history['val_accuracy'])\n",
    "plt.ylabel('Accuracy')\n",
    "plt.xlabel('Epoch')\n",
    "plt.legend(['accuracy', 'val_accuracy'], loc='lower right')\n",
    "plt.show();"
   ]
  },
  {
   "cell_type": "markdown",
   "id": "01b47221",
   "metadata": {},
   "source": [
    "The best test accuracy was achieved when epochs=60, batch_size=256 which was 67.24%"
   ]
  },
  {
   "cell_type": "markdown",
   "id": "470aba5f",
   "metadata": {},
   "source": [
    "### External Test data"
   ]
  },
  {
   "cell_type": "code",
   "execution_count": 33,
   "id": "c42c12dc",
   "metadata": {},
   "outputs": [
    {
     "name": "stdout",
     "output_type": "stream",
     "text": [
      "Test Accuracy: 66.38%\n",
      "Wall time: 22.8 s\n"
     ]
    },
    {
     "name": "stderr",
     "output_type": "stream",
     "text": [
      "C:\\ProgramData\\Anaconda3\\lib\\site-packages\\keras\\src\\engine\\training.py:3000: UserWarning: You are saving your model as an HDF5 file via `model.save()`. This file format is considered legacy. We recommend using instead the native Keras format, e.g. `model.save('my_model.keras')`.\n",
      "  saving_api.save_model(\n"
     ]
    }
   ],
   "source": [
    "%%time\n",
    "\n",
    "f = h5py.File('spectrograms.h5', 'r')\n",
    "\n",
    "data_list = []\n",
    "labels_list = []\n",
    "\n",
    "species_list = list(f.keys())\n",
    "\n",
    "for species_key in f.keys():\n",
    "    species_data = f[species_key][:].transpose((2, 0, 1))\n",
    "    data_list.append(species_data)\n",
    "    species_label = np.full((species_data.shape[0],), fill_value=species_list.index(species_key))\n",
    "    labels_list.append(species_label)\n",
    "\n",
    "X = np.concatenate(data_list, axis=0)\n",
    "y = np.concatenate(labels_list, axis=0)\n",
    "\n",
    "y_one_hot = to_categorical(y, num_classes=len(species_list))\n",
    "\n",
    "X_train, X_test, y_train, y_test = train_test_split(X, y_one_hot, test_size=0.2, random_state=42)\n",
    "\n",
    "model = Sequential([\n",
    "    Flatten(input_shape=(256, 343)),\n",
    "    Dense(256, activation='relu'),\n",
    "    Dropout(0.5),\n",
    "    Dense(128, activation='relu'),\n",
    "    Dropout(0.5),\n",
    "    Dense(len(species_list), activation='softmax')\n",
    "])\n",
    "\n",
    "model.compile(optimizer='rmsprop', loss='categorical_crossentropy', metrics=['accuracy'])\n",
    "\n",
    "history = model.fit(X_train, y_train, epochs=60, batch_size=256, validation_split=0.2, verbose=0)\n",
    "\n",
    "score = model.evaluate(X_test, y_test, verbose=0)\n",
    "print(\"Test Accuracy: {:.2f}%\".format(score[1]*100))\n",
    "\n",
    "model.save('spectrograms_model.h5')"
   ]
  },
  {
   "cell_type": "code",
   "execution_count": 44,
   "id": "37157cef",
   "metadata": {},
   "outputs": [
    {
     "name": "stdout",
     "output_type": "stream",
     "text": [
      "Results:\n",
      "=========\n",
      "| Audio File    | Predicted Bird Probabilities |\n",
      "|---------------|-------------------------------|\n",
      "1/1 [==============================] - 0s 57ms/step\n",
      "| test_birds/test1.mp3 |\n",
      "|               | amecro: 0.0048\n",
      "|               | barswa: 0.0000\n",
      "|               | bkcchi: 0.0000\n",
      "|               | blujay: 0.0000\n",
      "|               | daejun: 0.0000\n",
      "|               | houfin: 0.0000\n",
      "|               | mallar3: 0.0000\n",
      "|               | norfli: 0.0000\n",
      "|               | rewbla: 0.0000\n",
      "|               | stejay: 0.0000\n",
      "|               | wesmea: 0.0000\n",
      "|               | whcspa: 0.9952\n",
      "1/1 [==============================] - 0s 24ms/step\n",
      "| test_birds/test2.mp3 |\n",
      "|               | amecro: 0.0000\n",
      "|               | barswa: 0.0000\n",
      "|               | bkcchi: 0.0000\n",
      "|               | blujay: 0.9567\n",
      "|               | daejun: 0.0000\n",
      "|               | houfin: 0.0000\n",
      "|               | mallar3: 0.0433\n",
      "|               | norfli: 0.0000\n",
      "|               | rewbla: 0.0000\n",
      "|               | stejay: 0.0000\n",
      "|               | wesmea: 0.0000\n",
      "|               | whcspa: 0.0000\n",
      "1/1 [==============================] - 0s 25ms/step\n",
      "| test_birds/test3.mp3 |\n",
      "|               | amecro: 0.0000\n",
      "|               | barswa: 0.0000\n",
      "|               | bkcchi: 0.0000\n",
      "|               | blujay: 0.0000\n",
      "|               | daejun: 0.0000\n",
      "|               | houfin: 0.0000\n",
      "|               | mallar3: 0.0000\n",
      "|               | norfli: 0.0000\n",
      "|               | rewbla: 0.0000\n",
      "|               | stejay: 0.0000\n",
      "|               | wesmea: 0.0000\n",
      "|               | whcspa: 1.0000\n"
     ]
    }
   ],
   "source": [
    "def load_and_convert_to_spectrogram(audio_file):\n",
    "    y, sr = librosa.load(audio_file, sr=None)\n",
    "    spectrogram = librosa.feature.melspectrogram(y=y, sr=sr)\n",
    "    spectrogram_db = librosa.power_to_db(spectrogram, ref=np.max)\n",
    "    return spectrogram_db\n",
    "\n",
    "def preprocess_spectrogram(spectrogram):\n",
    "    resized_spectrogram = np.resize(spectrogram, (256, 343))\n",
    "    mean = np.mean(resized_spectrogram)\n",
    "    std = np.std(resized_spectrogram)\n",
    "    normalized_spectrogram = (resized_spectrogram - mean) / std\n",
    "    preprocessed_spectrogram = np.expand_dims(normalized_spectrogram, axis=-1)\n",
    "    return preprocessed_spectrogram\n",
    "\n",
    "model = load_model('spectrograms_model.h5')\n",
    "audio_files = [\"test_birds/test1.mp3\", \"test_birds/test2.mp3\", \"test_birds/test3.mp3\"]\n",
    "\n",
    "bird_species = ['amecro', 'barswa', 'bkcchi', 'blujay', 'daejun', 'houfin', 'mallar3', 'norfli', 'rewbla', 'stejay', 'wesmea', 'whcspa']\n",
    "\n",
    "print(\"Results:\")\n",
    "print(\"=========\")\n",
    "print(\"| Audio File    | Predicted Bird Probabilities |\")\n",
    "print(\"|---------------|-------------------------------|\")\n",
    "for audio_file in audio_files:\n",
    "    spectrogram = load_and_convert_to_spectrogram(audio_file)\n",
    "    preprocessed_spectrogram = preprocess_spectrogram(spectrogram)\n",
    "    prediction = model.predict(np.array([preprocessed_spectrogram]))[0]\n",
    "    print(f\"| {audio_file} |\")\n",
    "    for species, prob in zip(bird_species, prediction):\n",
    "        print(f\"|               | {species}: {prob:.4f}\")"
   ]
  },
  {
   "cell_type": "markdown",
   "id": "133f4dda",
   "metadata": {},
   "source": [
    "#### Confusion Matrix for discussion"
   ]
  },
  {
   "cell_type": "code",
   "execution_count": 31,
   "id": "a7030807",
   "metadata": {},
   "outputs": [
    {
     "name": "stdout",
     "output_type": "stream",
     "text": [
      "Test Accuracy: 61.11%\n",
      "1/1 [==============================] - 0s 54ms/step\n"
     ]
    },
    {
     "data": {
      "image/png": "[encoded data removed]",
      "text/plain": [
       "<Figure size 600x400 with 2 Axes>"
      ]
     },
     "metadata": {},
     "output_type": "display_data"
    }
   ],
   "source": [
    "f = h5py.File('spectrograms.h5', 'r')\n",
    "blujay_data = f['blujay'][:].transpose((2, 0, 1))\n",
    "wesmea_data = f['wesmea'][:].transpose((2, 0, 1))\n",
    "\n",
    "labels_blujay = np.zeros(blujay_data.shape[0])\n",
    "labels_wesmea = np.ones(wesmea_data.shape[0])\n",
    "\n",
    "data = np.concatenate((blujay_data, wesmea_data), axis=0)\n",
    "labels = np.concatenate((labels_blujay, labels_wesmea), axis=0)\n",
    "\n",
    "X_train, X_test, y_train, y_test = train_test_split(data, labels, test_size=0.2, random_state=42)\n",
    "\n",
    "model = Sequential([\n",
    "    Flatten(input_shape=(256, 343)),\n",
    "    Dense(128, activation='relu'),\n",
    "    Dropout(0.4),\n",
    "    Dense(64, activation='relu'),\n",
    "    Dropout(0.3),\n",
    "    Dense(1, activation='sigmoid')\n",
    "])\n",
    "\n",
    "model.compile(optimizer=RMSprop(), loss=binary_crossentropy, metrics=['accuracy'])\n",
    "history = model.fit(X_train, y_train, epochs=20, batch_size=64, validation_split=0.2, verbose=0)\n",
    "\n",
    "score = model.evaluate(X_test, y_test, verbose=0)\n",
    "print(\"Test Accuracy: {:.2f}%\".format(score[1]*100))\n",
    "\n",
    "y_pred_prob = model.predict(X_test).ravel()\n",
    "y_pred = (y_pred_prob > 0.5).astype(int)\n",
    "cm = confusion_matrix(y_test, y_pred)\n",
    "\n",
    "plt.figure(figsize=(6, 4))\n",
    "sns.heatmap(cm, annot=True, fmt='d', cmap='Blues', xticklabels=['blujay', 'wesmea'], yticklabels=['blujay', 'wesmea'])\n",
    "plt.xlabel('Predicted')\n",
    "plt.ylabel('True')\n",
    "plt.title('Confusion Matrix (Blue Jay vs Western Meadowlark)')\n",
    "plt.show()"
   ]
  },
  {
   "cell_type": "code",
   "execution_count": null,
   "id": "e5a12a57",
   "metadata": {},
   "outputs": [],
   "source": []
  }
 ],
 "metadata": {
  "kernelspec": {
   "display_name": "Python 3 (ipykernel)",
   "language": "python",
   "name": "python3"
  },
  "language_info": {
   "codemirror_mode": {
    "name": "ipython",
    "version": 3
   },
   "file_extension": ".py",
   "mimetype": "text/x-python",
   "name": "python",
   "nbconvert_exporter": "python",
   "pygments_lexer": "ipython3",
   "version": "3.9.13"
  }
 },
 "nbformat": 4,
 "nbformat_minor": 5
}
